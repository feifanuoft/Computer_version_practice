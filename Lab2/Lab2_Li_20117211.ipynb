{
 "cells": [
  {
   "cell_type": "markdown",
   "id": "5d23766e-8e41-4e0a-9815-e62f59e5e32b",
   "metadata": {},
   "source": [
    "Import "
   ]
  },
  {
   "cell_type": "code",
   "execution_count": 1,
   "id": "3f8b2f4b-14c0-42f5-a29c-489e0b611478",
   "metadata": {},
   "outputs": [],
   "source": [
    "import cv2 \n",
    "import numpy as np\n",
    "import random\n",
    "import math"
   ]
  },
  {
   "cell_type": "markdown",
   "id": "78fd8b8f-65c0-436b-bbe6-d9d48c6f3188",
   "metadata": {},
   "source": [
    "Some global values"
   ]
  },
  {
   "cell_type": "code",
   "execution_count": 2,
   "id": "63e55473-61d8-4d50-b5a3-b951274dd4b0",
   "metadata": {},
   "outputs": [],
   "source": [
    "img = cv2.imread(\"SAFlag.jpg\")\n",
    "#img = cv2.imread(\"baboon.jpg\")\n",
    "imgSize = [img.shape[0], img.shape[1]]\n",
    "k =0\n",
    "res = np.copy(img)\n",
    "kpass = 0"
   ]
  },
  {
   "cell_type": "markdown",
   "id": "8cf5c730-2341-4be3-b8ab-5aa7280a3a77",
   "metadata": {},
   "source": [
    "Define trackbar"
   ]
  },
  {
   "cell_type": "code",
   "execution_count": 3,
   "id": "6001b393-87e9-4e59-8997-476921de229f",
   "metadata": {},
   "outputs": [],
   "source": [
    "def k_val_trackbar(*arg):\n",
    "    k = cv2.getTrackbarPos(\"value of k\", \"Kmeans\")"
   ]
  },
  {
   "cell_type": "markdown",
   "id": "7f06b0e4-5e10-4195-8bce-f1980e9f4961",
   "metadata": {},
   "source": [
    "Define function to active algorithm"
   ]
  },
  {
   "cell_type": "code",
   "execution_count": 4,
   "id": "bdcf38f9-c129-4def-96c3-02d4deabec85",
   "metadata": {},
   "outputs": [],
   "source": [
    "def active():\n",
    "    k = cv2.getTrackbarPos(\"value of k\", \"Kmeans\")\n",
    "    storeimg(imgSize)\n",
    "    Kmeans(img, imgSize, k)"
   ]
  },
  {
   "cell_type": "markdown",
   "id": "0e662287-0873-4883-ba07-77f2f480659e",
   "metadata": {},
   "source": [
    "Two functions to calculate how close two pixels are"
   ]
  },
  {
   "cell_type": "code",
   "execution_count": 5,
   "id": "29ee1ddb-328d-4467-8853-8cf4652d8883",
   "metadata": {},
   "outputs": [],
   "source": [
    "def pixelDiff(p1, p2):        \n",
    "    val = squrediffernce(p1[0], p2[0])+squrediffernce(p1[1], p2[1])+squrediffernce(p1[2], p2[2])  \n",
    "    return val\n",
    "        \n",
    "def squrediffernce(x, y):                      \n",
    "    return math.sqrt(math.pow(x-y, 2))\n"
   ]
  },
  {
   "cell_type": "markdown",
   "id": "6cc931b8-04a3-4727-b84b-778c3349095e",
   "metadata": {},
   "source": [
    "Get random k centers"
   ]
  },
  {
   "cell_type": "code",
   "execution_count": 6,
   "id": "cb797729-aff5-4221-90a6-0578ae5161d2",
   "metadata": {},
   "outputs": [],
   "source": [
    "def RandomCenter(img, imgSize, k):\n",
    "    centers = np.zeros((k,img.shape[2]))                   \n",
    "    for i in range(k):                           #random pick k points in the img\n",
    "        x = random.randint(0, imgSize[0]-1)\n",
    "        y = random.randint(0,imgSize[1]-1)\n",
    "        centers[i,: ] = np.copy(img[x][y])     # store the BGR value of each center points\n",
    "    return centers           \n"
   ]
  },
  {
   "cell_type": "markdown",
   "id": "04e30a2c-53a8-48f6-ac2f-d8990f209dbf",
   "metadata": {},
   "source": [
    "An function that can store the original image so that trackbar can be used continuously"
   ]
  },
  {
   "cell_type": "code",
   "execution_count": 7,
   "id": "77471e80-ac16-448c-a808-c79b07170e26",
   "metadata": {},
   "outputs": [],
   "source": [
    "def storeimg(imgSize):  \n",
    "    for x in range(imgSize[0]):\n",
    "        for y in range(imgSize[1]):\n",
    "            img[x][y] = res[x][y]"
   ]
  },
  {
   "cell_type": "markdown",
   "id": "d8965aa9-71a1-44d5-a8f8-3ddcae4d9f34",
   "metadata": {},
   "source": [
    "K-means algorithm"
   ]
  },
  {
   "cell_type": "code",
   "execution_count": 8,
   "id": "4d1170b0-dadb-472a-9c08-e3fab8962bf6",
   "metadata": {},
   "outputs": [],
   "source": [
    "def Kmeans(img, imgSize, k):   \n",
    "\n",
    "    VRS = np.zeros((imgSize[0],imgSize[1], 2))        # [x,y,0], stores cluster type(different centers)\n",
    "                                                    #  [x,y,1], stores the difference between sample pixel and centers \n",
    "    centers = RandomCenter(img, imgSize,k)          # get center points\n",
    "    controller = True                                 \n",
    "    threshold = 5                             # the value to check how close between two points\n",
    "    while(controller==True):\n",
    "\n",
    "        controller = False\n",
    "        for x in range(imgSize[0]):\n",
    "            for y in range(imgSize[1]):\n",
    "                standarddiff = 1000**3    # give a large standard difference to test how close two pixels are, I will update this value! \n",
    "                minIdx = 0\n",
    "                for i in range(k):\n",
    "                    tempDiff = pixelDiff(centers[i], img[x][y])  #get the pixel difference between two points\n",
    "                    difference = squrediffernce(tempDiff, standarddiff)  # get the difference two difference\n",
    "                    if tempDiff < standarddiff and squrediffernce(tempDiff, standarddiff) > threshold :\n",
    "                        standarddiff = tempDiff          #update the standard difference\n",
    "                        minIdx = i                       # index different clusters with different centers\n",
    "                VRS[x,y,:] = [minIdx,tempDiff] #store the cluster type and difference\n",
    "        \n",
    "        means = []        # stack of mean\n",
    "        diff = []         #stack of difference\n",
    "        test = False            # test different situation\n",
    "        \n",
    "        for i in range(k):\n",
    "            cluster = (VRS[:,:,0] == i)      # get cluster type\n",
    "            clusterPVal = img[cluster]       # cluster pixel value\n",
    "            means.append(np.mean(clusterPVal, axis=0))          \n",
    "        for j in range(len(centers)):\n",
    "            tempDiff = pixelDiff(centers[j], means[j]) # get difference\n",
    "            diff.append(tempDiff)            #store difference\n",
    "            if  tempDiff >= threshold:             \n",
    "                test = True\n",
    "        if test == False:\n",
    "            controller = False\n",
    "        else:\n",
    "            controller = True\n",
    "            centers = means\n",
    "\n",
    "        for x in range(imgSize[0]):        #change the color in clusters\n",
    "            for y in range(imgSize[1]):\n",
    "                idx = int(VRS[x,y,0])\n",
    "                img[x,y] = centers[idx]"
   ]
  },
  {
   "cell_type": "markdown",
   "id": "854e41c7-286a-4837-90f7-b6a8d4f3672e",
   "metadata": {},
   "source": [
    "Main function(Please press \"enter\" after you have chosen a k value)"
   ]
  },
  {
   "cell_type": "code",
   "execution_count": 9,
   "id": "4e5bc3a0-6d12-4136-8fbf-f284c86c709c",
   "metadata": {},
   "outputs": [],
   "source": [
    "cv2.namedWindow(\"Kmeans\", cv2.WINDOW_NORMAL)\n",
    "cv2.resizeWindow(\"Kmeans\",imgSize[1], imgSize[0])\n",
    "cv2.createTrackbar(\"value of k\", \"Kmeans\", 0,30, k_val_trackbar)\n",
    "while True:\n",
    "    cv2.imshow(\"Kmeans\", img)\n",
    "    key = cv2.waitKey(1)\n",
    "    if key == 27:   # \"esc\" to exit\n",
    "        break\n",
    "    if key== 13:   #\"enter\" to active the alogrithm\n",
    "        active()\n",
    "cv2.destroyAllWindows()   "
   ]
  },
  {
   "cell_type": "code",
   "execution_count": null,
   "id": "209380de-2344-4ea5-bcb1-1fa34a41a7d5",
   "metadata": {},
   "outputs": [],
   "source": []
  }
 ],
 "metadata": {
  "kernelspec": {
   "display_name": "Python 3",
   "language": "python",
   "name": "python3"
  },
  "language_info": {
   "codemirror_mode": {
    "name": "ipython",
    "version": 3
   },
   "file_extension": ".py",
   "mimetype": "text/x-python",
   "name": "python",
   "nbconvert_exporter": "python",
   "pygments_lexer": "ipython3",
   "version": "3.8.8"
  }
 },
 "nbformat": 4,
 "nbformat_minor": 5
}
