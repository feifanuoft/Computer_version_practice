{
 "cells": [
  {
   "cell_type": "code",
   "execution_count": 1,
   "id": "9e72334e",
   "metadata": {},
   "outputs": [
    {
     "ename": "SyntaxError",
     "evalue": "invalid syntax (<ipython-input-1-66cf35ec8337>, line 9)",
     "output_type": "error",
     "traceback": [
      "\u001b[1;36m  File \u001b[1;32m\"<ipython-input-1-66cf35ec8337>\"\u001b[1;36m, line \u001b[1;32m9\u001b[0m\n\u001b[1;33m    img_size = [img.shape[0hape[1]]              hape[1]]\u001b[0m\n\u001b[1;37m                           ^\u001b[0m\n\u001b[1;31mSyntaxError\u001b[0m\u001b[1;31m:\u001b[0m invalid syntax\n"
     ]
    }
   ],
   "source": [
    "import cv2\r\n",
    "import numpy as np\r\n",
    "from matplotlib import pyplot as plt\r\n",
    "\r\n",
    "img = cv2.imread(\"baboon1.png\")\r\n",
    "#img = cv2.imread(\"mario.png\")   ## an additional picture\r\n",
    "stack = []\r\n",
    "threshold = 0\r\n",
    "img_size = [img].shape[0hap        hape[1]]"
   ]
  },
  {
   "cell_type": "markdown",
   "id": "a7a9a94b",
   "metadata": {},
   "source": [
    "Define a difference Function to calculate difference"
   ]
  },
  {
   "cell_type": "code",
   "execution_count": null,
   "id": "1e1155dd",
   "metadata": {},
   "outputs": [],
   "source": [
    "def difference(x,y):\r\n",
    "    if(x>y):\r\n",
    "        return x-y\r\n",
    "    else:\r\n",
    "        return y-x"
   ]
  },
  {
   "cell_type": "markdown",
   "id": "1ed58153",
   "metadata": {},
   "source": [
    "\n",
    "Define a check function to check whether the neighbor pixel can be next seed pixel or not "
   ]
  },
  {
   "cell_type": "code",
   "execution_count": null,
   "id": "4a83f163",
   "metadata": {},
   "outputs": [],
   "source": [
    "def check_valid(seedpixel,point, threshold):\r\n",
    "    point = img[point[0]][point[1]]\r\n",
    "    return((difference(seedpixel[0], point[0]) <= threshold)      \r\n",
    "           and (difference(seedpixel[1], point[1]) <= threshold) and (difference(seedpixel[2], point[2]) <= threshold))\r\n"
   ]
  },
  {
   "cell_type": "markdown",
   "id": "e53f49dd",
   "metadata": {},
   "source": [
    "Define a Growth function to add new seed pixel to stack and a Callback function to get trackbar"
   ]
  },
  {
   "cell_type": "code",
   "execution_count": null,
   "id": "1891a189",
   "metadata": {},
   "outputs": [],
   "source": [
    "    \r\n",
    "def Growth(seedpixel,temp, threshold,check):\r\n",
    "       if(check_valid(seedpixel, temp, threshold) and not (check[temp[0]][temp[1]] == 1)): \r\n",
    "        stack.append(temp)                 \r\n",
    "        check[temp[0]][temp[1]] = 1  \r\n",
    "\r\n",
    "def Callback(*arg):\r\n",
    "    threshold = cv2.getTrackbarPos(\"Intensity\", \"trackbar\")\r\n"
   ]
  },
  {
   "cell_type": "markdown",
   "id": "89218975",
   "metadata": {},
   "source": [
    "Define a flood_fill function to implement floodfill algorithm"
   ]
  },
  {
   "cell_type": "code",
   "execution_count": null,
   "id": "81b9b7aa",
   "metadata": {},
   "outputs": [],
   "source": [
    "def flood_fill(event, x,y,flags,param):\r\n",
    "    if event == cv2.EVENT_LBUTTONDOWN:\r\n",
    "        check = np.zeros([512,512])\r\n",
    "        threshold = cv2.getTrackbarPos(\"Intensity\", \"trackbar\")\r\n",
    "        seedindex = [y,x]                      #get seedindex\r\n",
    "        check[y,x] = 1                                         \r\n",
    "        seedpixel = np.copy(img[y][x])          # get pixelvalue of seed point\r\n",
    "        stack.append([y,x])                  #store in to stack\r\n",
    "        check_pixel = 0\r\n",
    "    threshold = cv2.getTrackbarPos(\"Intensity\", \"trackbar\")\r\n",
    "    pixelnum = 0\r\n",
    "    \r\n",
    "    while(len(stack)!=0):\r\n",
    "        point = stack.pop()\r\n",
    "        if(check_valid(seedpixel, point, threshold)):\r\n",
    "            img[point[0],point[1]]=[255,0,0]           # color blue\r\n",
    "            pixelnum += 1\r\n",
    "            \r\n",
    "            # finding neighbor\r\n",
    "            uppixel = [point[0],min(point[1] + 1, img_size[1] -1)]\r\n",
    "            downpixel = [point[0],max(point[1] - 1, 0)]  \r\n",
    "            rightpixel = [min(point[0] + 1, img_size[0] -1),point[1]]  \r\n",
    "            leftpixel = [max(point[0] - 1, 0),point[1]]             \r\n",
    "            # Calling growth function                   \r\n",
    "            Growth(seedpixel,uppixel,threshold,check)\r\n",
    "            Growth(seedpixel,downpixel,threshold,check)\r\n",
    "            Growth(seedpixel,rightpixel,threshold,check)\r\n",
    "            Growth(seedpixel,leftpixel,threshold,check)"
   ]
  },
  {
   "cell_type": "markdown",
   "id": "b6c690dd",
   "metadata": {},
   "source": [
    "Use the window to call up pictures and implement operation"
   ]
  },
  {
   "cell_type": "code",
   "execution_count": null,
   "id": "27f2ce35",
   "metadata": {},
   "outputs": [],
   "source": [
    "\n",
    "cv2.namedWindow('trackbar', cv2.WINDOW_NORMAL)\r\n",
    "cv2.resizeWindow('trackbar', 800, 50)\r\n",
    "cv2.createTrackbar(\"Intensity\", 'trackbar', 1, 150, Callback)\r\n",
    "while True:\r\n",
    "    cv2.imshow(\"image\", img)\r\n",
    "    cv2.setMouseCallback(\"image\", flood_fill, [stack,img])\r\n",
    "    a = cv2.waitKey(1)\r\n",
    "    if a == 27: \r\n",
    "     \n",
    "           break\r\n",
    "cv2.destroyAllWindows()"
   ]
  },
  {
   "cell_type": "code",
   "execution_count": null,
   "id": "7ed2ce85-84b3-400e-8bc7-30635d892ca4",
   "metadata": {},
   "outputs": [],
   "source": []
  }
 ],
 "metadata": {
  "kernelspec": {
   "display_name": "Python 3",
   "language": "python",
   "name": "python3"
  },
  "language_info": {
   "codemirror_mode": {
    "name": "ipython",
    "version": 3
   },
   "file_extension": ".py",
   "mimetype": "text/x-python",
   "name": "python",
   "nbconvert_exporter": "python",
   "pygments_lexer": "ipython3",
   "version": "3.8.8"
  }
 },
 "nbformat": 4,
 "nbformat_minor": 5
}
