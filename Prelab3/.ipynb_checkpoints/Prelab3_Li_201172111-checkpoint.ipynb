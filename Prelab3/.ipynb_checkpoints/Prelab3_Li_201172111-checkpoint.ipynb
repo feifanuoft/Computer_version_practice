{
 "cells": [
  {
   "cell_type": "markdown",
   "id": "d8b0348a",
   "metadata": {},
   "source": [
    "Import"
   ]
  },
  {
   "cell_type": "code",
   "execution_count": 1,
   "id": "734e779f",
   "metadata": {},
   "outputs": [
    {
     "ename": "SyntaxError",
     "evalue": "invalid syntax (<ipython-input-1-2df6fb6aa23c>, line 8)",
     "output_type": "error",
     "traceback": [
      "\u001b[1;36m  File \u001b[1;32m\"<ipython-input-1-2df6fb6aa23c>\"\u001b[1;36m, line \u001b[1;32m8\u001b[0m\n\u001b[1;33m    global img, gray,#ratios\u001b[0m\n\u001b[1;37m                     ^\u001b[0m\n\u001b[1;31mSyntaxError\u001b[0m\u001b[1;31m:\u001b[0m invalid syntax\n"
     ]
    }
   ],
   "source": [
    "import numpy as np\r\n",
    "import cv2 \r\n",
    "import random\r\n",
    "import math\r\n",
    "from matplotlib import pyplot as plt\r\n",
    "import random\r\n",
    "\r\n",
    "global im#ratios\r\n",
    "img = cv2.imread(\"spiral.jpg\")\r\n",
    "#img = cv2.imread(\"lines.jpg\")\r\n",
    "#img = cv2.imread(\"mario.png\")\r\n",
    "gray= cv2.cvtColor(img,cv2.COLOR_BGR2GRAY)\r\n",
    "tvalrange = [1,50]\r\n",
    "rows = img.shape[0]\r\n",
    "columns = img.shape[1]\r\n",
    "ratios=[]\r\n"
   ]
  },
  {
   "cell_type": "markdown",
   "id": "939ea3fd",
   "metadata": {},
   "source": [
    "Smooth image"
   ]
  },
  {
   "cell_type": "code",
   "execution_count": null,
   "id": "97989bb9",
   "metadata": {},
   "outputs": [],
   "source": [
    "RGBimg = cv2.cvtColor(img,cv2.COLOR_BGR2RGB)\r\n",
    "dstimg = cv2.GaussianBlur(RGBimg,(3,3),0)\r\n",
    "plt.imshow(dstimg)\r\n",
    "plt.title(\"Smoothing image\")"
   ]
  },
  {
   "cell_type": "markdown",
   "id": "6163ffee",
   "metadata": {},
   "source": [
    "Get Sobel Horizontal and vertical images"
   ]
  },
  {
   "cell_type": "code",
   "execution_count": null,
   "id": "92d0a15b",
   "metadata": {},
   "outputs": [],
   "source": [
    "dstimg = cv2.GaussianBlur(gray,(5,5),7)\r\n",
    "G_x = np.array([[-1, 0, 1],[-2, 0, 2],[-1, 0, 1]])\r\n",
    "G_y = np.array([[-1, -2, -1],[0, 0, 0],[1, 2, 1]])  \r\n",
    "dstx = cv2.filter2D(dstimg,cv2.CV_16S,G_x)\r\n",
    "dsty = cv2.filter2D(dstimg,cv2.CV_16S,G_y)"
   ]
  },
  {
   "cell_type": "code",
   "execution_count": null,
   "id": "cb2e8287",
   "metadata": {},
   "outputs": [],
   "source": [
    "plt.imshow(dstx,cmap=\"gray\")\n",
    "plt.title(\"Sobel Horizontal Image\")"
   ]
  },
  {
   "cell_type": "code",
   "execution_count": null,
   "id": "81c6dc1f",
   "metadata": {},
   "outputs": [],
   "source": [
    "plt.imshow(dsty,cmap=\"gray\")\n",
    "plt.title(\"Sobel Vertical Image\")"
   ]
  },
  {
   "cell_type": "markdown",
   "id": "9a4cf167",
   "metadata": {},
   "source": [
    "Get gradient image"
   ]
  },
  {
   "cell_type": "code",
   "execution_count": null,
   "id": "50df4644",
   "metadata": {},
   "outputs": [],
   "source": [
    "def GeneralEdgeDetection(img):\n",
    "    rows = img.shape[0]\n",
    "    columns = img.shape[1]\n",
    "    Gimg = np.zeros((img.shape[0],img.shape[1],3),np.uint8)\n",
    "    for x in range(rows):\n",
    "        for y in range(columns):\n",
    "            Gimg[x][y] = abs(dstx[x][y])+ abs(dsty[x][y])\n",
    "    return Gimg\n",
    "plt.imshow(GeneralEdgeDetection(dstimg))\n",
    "plt.title(\"Gradient Image\")\n",
    "\n",
    "dstimg = dstx + dsty"
   ]
  },
  {
   "cell_type": "markdown",
   "id": "0f4d6bf5",
   "metadata": {},
   "source": [
    "Show the gradient image and Marked the Gradient image, Canny edge detection"
   ]
  },
  {
   "cell_type": "code",
   "execution_count": null,
   "id": "52ee85c6",
   "metadata": {},
   "outputs": [],
   "source": [
    "global tau,tau1,tau2,Gimg\n",
    "tau = 0\n",
    "tau1 = 0\n",
    "tau2 = 0\n",
    "\n",
    "Gimg = GeneralEdgeDetection(dstimg)\n",
    "\n",
    "\n",
    "rows = img.shape[0] \n",
    "columns = img.shape[1]\n",
    "\n",
    "def tau_val_trackbar(*arg):\n",
    "    # global tau\n",
    "    tau = cv2.getTrackbarPos(\"value of tau\", \"MarkGrad\")\n",
    "\n",
    "def tau_val_trackbar2(*arg):\n",
    "    global tau1,tau2\n",
    "    tau1 = cv2.getTrackbarPos(\"value of tau1\", \"Canny Edge Detection\")\n",
    "    tau2 = cv2.getTrackbarPos(\"value of tau2\", \"Canny Edge Detection\")\n",
    "\n",
    "def storeGimg(img):  \n",
    "    for x in range(rows):\n",
    "        for y in range(columns):\n",
    "            img[x][y] = resGimg[x][y]\n",
    "            \n",
    "def MarkGrad(img,tau):\n",
    "    temp = np.zeros((rows,columns),np.uint8)\n",
    "    for x in range(rows):\n",
    "        for y in range(columns):\n",
    "            for z in range(3):\n",
    "                if(img[x,y,z] >= tau):\n",
    "                    temp[x,y] = np.uint8(255)\n",
    "    return temp\n",
    "\n",
    "\n",
    "def CED(img,tau1,tau2):\n",
    "    imgGray = cv2.cvtColor(img,cv2.COLOR_BGR2GRAY)\n",
    "    Gaussianimg = cv2.GaussianBlur(imgGray,(5,5),7) \n",
    "    ced = cv2.Canny(Gaussianimg, tau1, tau2)\n",
    "    cv2.imshow(\"Canny Edge Detection\", ced)\n",
    "    return ced\n",
    "\n",
    "def activeGeneral(dstimg):\n",
    "    tau = cv2.getTrackbarPos(\"value of tau\", \"MarkGrad\")\n",
    "    Gimg = GeneralEdgeDetection(dstimg)\n",
    "    Gimg = MarkGrad(Gimg,tau)\n",
    "    plt.figure(figsize=(10,3))\n",
    "    cv2.imshow(\"MarkGrad\",Gimg)\n",
    "    plt.subplot(1,1,1),plt.imshow(Gimg,cmap ='gray')\n",
    "    plt.title(\"Gredient image, tau= \"+str(tau))\n",
    "\n",
    "def activeCanny():\n",
    "    tau1 = cv2.getTrackbarPos(\"value of tau1\", \"Canny Edge Detection\")\n",
    "    tau2 = cv2.getTrackbarPos(\"value of tau2\", \"Canny Edge Detection\")\n",
    "    ced = CED(img,tau1,tau2)\n",
    "    \n",
    "    plt.subplot(2,1,1),plt.imshow(ced,cmap ='gray')\n",
    "    plt.title(\"Canny edge detection\"+\"\\n\"+\"tau1= \"+str(tau1)+\" ,tau2 = \"+str(tau2))\n",
    "\n",
    "Markimg = MarkGrad(Gimg,18)\n",
    "plt.imshow(Markimg,cmap ='gray')\n",
    "plt.title(\"Gredient image, tau=18 \")"
   ]
  },
  {
   "cell_type": "code",
   "execution_count": null,
   "id": "15d9fc70",
   "metadata": {},
   "outputs": [],
   "source": [
    "ced = CED(img,7,51)\n",
    "plt.imshow(ced,cmap ='gray')\n",
    "plt.title(\"Canny edge detection, tau1= 7,tau2 = 51\")"
   ]
  },
  {
   "cell_type": "markdown",
   "id": "af63027d",
   "metadata": {},
   "source": [
    "Part3 Compare (Please press enter for \"MarkGredient\", \"q\" for Canny, and \"c\" to calculate ratio. after all the ratios have \n",
    "been calculated, press \"esc\" to show the figures."
   ]
  },
  {
   "cell_type": "code",
   "execution_count": null,
   "id": "81df4c78",
   "metadata": {},
   "outputs": [],
   "source": [
    "def Compare(img1,img2):\n",
    "    countgimg = 0\n",
    "    volume = rows * columns\n",
    "    ratio = 0\n",
    "    for i in range(img1.shape[0]):\n",
    "        for j in range(img1.shape[1]):\n",
    "                if(img1[i,j] == img2[i,j]):\n",
    "                    countgimg = countgimg+1\n",
    "    ratio = countgimg  / volume\n",
    "    return ratio                                #get the ratio \n",
    "\n",
    "\n",
    "\n",
    "def CompareMetricPlt(x, y, xLabel, yLabel,dataLabel,title):\n",
    "    plt.figure(dpi=200)\n",
    "    plt.figure(figsize=(5,5))\n",
    "    mX = []\n",
    "    mY = y\n",
    "    \n",
    "    for i in range(x[0],x[1]+1):\n",
    "        mX.append(i)\n",
    "    \n",
    "    #plot line\n",
    "    plt.plot(mX,mY,'g--',label = dataLabel)\n",
    "    #plot point \n",
    "    plt.plot(mX,mY,'g+-')\n",
    "\n",
    "    plt.title(title)\n",
    "    plt.xlabel(xLabel)\n",
    "    plt.ylabel(yLabel)\n",
    "    plt.legend()\n",
    "\n",
    "    plt.tight_layout()\n",
    "\n",
    "\n",
    "\n",
    "                              \n",
    "\n",
    "cv2.namedWindow(\"MarkGrad\", cv2.WINDOW_NORMAL)\n",
    "cv2.resizeWindow(\"MarkGrad\",columns, rows)\n",
    "cv2.createTrackbar(\"value of tau\", \"MarkGrad\", 0,30, tau_val_trackbar)\n",
    "\n",
    "\n",
    "cv2.namedWindow(\"Canny Edge Detection\", cv2.WINDOW_NORMAL)\n",
    "cv2.resizeWindow(\"Canny Edge Detection\",columns, rows)\n",
    "cv2.createTrackbar(\"value of tau1\", \"Canny Edge Detection\", 0,60, tau_val_trackbar2)\n",
    "cv2.createTrackbar(\"value of tau2\", \"Canny Edge Detection\", 0,60, tau_val_trackbar2)\n",
    "\n",
    "cv2.imshow(\"MarkGrad\",img)\n",
    "cv2.imshow(\"Canny Edge Detection\", img)\n",
    "    \n",
    "while True:    \n",
    "    key = cv2.waitKey(1)\n",
    "    if key == 27:   # \"esc\" to exit\n",
    "        break\n",
    "    if key== 13:    #\"enter\" to active the alogrithm\n",
    "        activeGeneral(dstimg)\n",
    "    if key == 113:  # 'q' \n",
    "        activeCanny()\n",
    "    if key == 99:   #please press \"c\" on the image\n",
    "        for t in range(tvalrange[1]):\n",
    "            ratios.append(Compare(MarkGrad(Gimg,t),CED(img,tau1,tau2)))\n",
    "            print(\"Ratio = \",ratios[t],\"For tau = \"+str(t))\n",
    "        print(\"start ploting\")\n",
    "        CompareMetricPlt(tvalrange, ratios, \"value of tau\", \"ratio\",\"dataLabel\",\"Similarity ratio trend\")\n",
    "cv2.destroyAllWindows()"
   ]
  },
  {
   "cell_type": "markdown",
   "id": "78964541",
   "metadata": {},
   "source": [
    "Compare"
   ]
  },
  {
   "cell_type": "code",
   "execution_count": null,
   "id": "a0928e5d",
   "metadata": {
    "tags": []
   },
   "outputs": [],
   "source": []
  },
  {
   "cell_type": "code",
   "execution_count": null,
   "id": "91d8bf86",
   "metadata": {},
   "outputs": [],
   "source": []
  },
  {
   "cell_type": "code",
   "execution_count": null,
   "id": "fff6b6e9",
   "metadata": {},
   "outputs": [],
   "source": []
  }
 ],
 "metadata": {
  "kernelspec": {
   "display_name": "Python 3",
   "language": "python",
   "name": "python3"
  },
  "language_info": {
   "codemirror_mode": {
    "name": "ipython",
    "version": 3
   },
   "file_extension": ".py",
   "mimetype": "text/x-python",
   "name": "python",
   "nbconvert_exporter": "python",
   "pygments_lexer": "ipython3",
   "version": "3.8.8"
  }
 },
 "nbformat": 4,
 "nbformat_minor": 5
}
