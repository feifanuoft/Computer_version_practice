{
 "cells": [
  {
   "cell_type": "markdown",
   "id": "160eeddc-26af-4b66-92bc-3c201964049b",
   "metadata": {},
   "source": [
    "Import"
   ]
  },
  {
   "cell_type": "code",
   "execution_count": 1,
   "id": "f93e3513-22e5-4731-892d-3df98dbc4378",
   "metadata": {},
   "outputs": [
    {
     "ename": "error",
     "evalue": "OpenCV(4.5.4-dev) D:\\a\\opencv-python\\opencv-python\\opencv\\modules\\imgproc\\src\\color.cpp:182: error: (-215:Assertion failed) !_src.empty() in function 'cv::cvtColor'\n",
     "output_type": "error",
     "traceback": [
      "\u001b[1;31m---------------------------------------------------------------------------\u001b[0m",
      "\u001b[1;31merror\u001b[0m                                     Traceback (most recent call last)",
      "\u001b[1;32m<ipython-input-1-a38dd7d9e5aa>\u001b[0m in \u001b[0;36m<module>\u001b[1;34m\u001b[0m\n\u001b[0;32m     10\u001b[0m \u001b[1;31m#img = cv2.imread(\"lines.jpg\")\u001b[0m\u001b[1;33m\u001b[0m\u001b[1;33m\u001b[0m\u001b[1;33m\u001b[0m\u001b[0m\n\u001b[0;32m     11\u001b[0m \u001b[0mimg\u001b[0m \u001b[1;33m=\u001b[0m \u001b[0mcv2\u001b[0m\u001b[1;33m.\u001b[0m\u001b[0mimread\u001b[0m\u001b[1;33m(\u001b[0m\u001b[1;34m\"Mario.png\"\u001b[0m\u001b[1;33m)\u001b[0m\u001b[1;33m\u001b[0m\u001b[1;33m\u001b[0m\u001b[0m\n\u001b[1;32m---> 12\u001b[1;33m \u001b[0mgray\u001b[0m\u001b[1;33m=\u001b[0m \u001b[0mcv2\u001b[0m\u001b[1;33m.\u001b[0m\u001b[0mcvtColor\u001b[0m\u001b[1;33m(\u001b[0m\u001b[0mimg\u001b[0m\u001b[1;33m,\u001b[0m\u001b[0mcv2\u001b[0m\u001b[1;33m.\u001b[0m\u001b[0mCOLOR_BGR2GRAY\u001b[0m\u001b[1;33m)\u001b[0m\u001b[1;33m\u001b[0m\u001b[1;33m\u001b[0m\u001b[0m\n\u001b[0m\u001b[0;32m     13\u001b[0m \u001b[0mtvalrange\u001b[0m \u001b[1;33m=\u001b[0m \u001b[1;33m[\u001b[0m\u001b[1;36m1\u001b[0m\u001b[1;33m,\u001b[0m\u001b[1;36m50\u001b[0m\u001b[1;33m]\u001b[0m\u001b[1;33m\u001b[0m\u001b[1;33m\u001b[0m\u001b[0m\n\u001b[0;32m     14\u001b[0m \u001b[0mrows\u001b[0m \u001b[1;33m=\u001b[0m \u001b[0mimg\u001b[0m\u001b[1;33m.\u001b[0m\u001b[0mshape\u001b[0m\u001b[1;33m[\u001b[0m\u001b[1;36m0\u001b[0m\u001b[1;33m]\u001b[0m\u001b[1;33m\u001b[0m\u001b[1;33m\u001b[0m\u001b[0m\n",
      "\u001b[1;31merror\u001b[0m: OpenCV(4.5.4-dev) D:\\a\\opencv-python\\opencv-python\\opencv\\modules\\imgproc\\src\\color.cpp:182: error: (-215:Assertion failed) !_src.empty() in function 'cv::cvtColor'\n"
     ]
    }
   ],
   "source": [
    "import numpy as np\n",
    "import cv2 \n",
    "import random\n",
    "import math\n",
    "from matplotlib import pyplot as plt\n",
    "import random\n",
    "\n",
    "global img, gray,ratios\n",
    "#img = cv2.imread(\"spiral.jpg\")\n",
    "#img = cv2.imread(\"lines.jpg\")\n",
    "img = cv2.imread(\"Mario.png\")\n",
    "gray= cv2.cvtColor(img,cv2.COLOR_BGR2GRAY)\n",
    "tvalrange = [1,50]\n",
    "rows = img.shape[0]\n",
    "columns = img.shape[1]\n",
    "ratios=[]\n"
   ]
  },
  {
   "cell_type": "markdown",
   "id": "1b5cb1aa-3d73-4528-98bf-b977263c98cb",
   "metadata": {},
   "source": [
    "Smooth image"
   ]
  },
  {
   "cell_type": "code",
   "execution_count": null,
   "id": "0f9c4304-f90f-4028-9728-a887e7479dd1",
   "metadata": {},
   "outputs": [],
   "source": [
    "RGBimg = cv2.cvtColor(img,cv2.COLOR_BGR2RGB)\n",
    "dstimg = cv2.GaussianBlur(RGBimg,(3,3),0)\n",
    "plt.imshow(dstimg)\n",
    "plt.title(\"Smoothing image\")"
   ]
  },
  {
   "cell_type": "markdown",
   "id": "f54d801f-0b6d-4250-990d-8f9140d0bdcc",
   "metadata": {},
   "source": [
    "Get Sobel Horizontal and vertical images"
   ]
  },
  {
   "cell_type": "code",
   "execution_count": null,
   "id": "748351fd-d193-440f-b040-3cb958287b5f",
   "metadata": {},
   "outputs": [],
   "source": [
    "dstimg = cv2.GaussianBlur(gray,(5,5),7)\n",
    "G_x = np.array([[-1, 0, 1],[-2, 0, 2],[-1, 0, 1]])\n",
    "G_y = np.array([[-1, -2, -1],[0, 0, 0],[1, 2, 1]])  \n",
    "dstx = cv2.filter2D(dstimg,cv2.CV_16S,G_x)\n",
    "dsty = cv2.filter2D(dstimg,cv2.CV_16S,G_y)"
   ]
  },
  {
   "cell_type": "code",
   "execution_count": null,
   "id": "741920c7-6502-4b3f-b575-3fd933923b13",
   "metadata": {},
   "outputs": [],
   "source": [
    "plt.imshow(dstx,cmap=\"gray\")\n",
    "plt.title(\"Sobel Horizontal Image\")"
   ]
  },
  {
   "cell_type": "code",
   "execution_count": null,
   "id": "f87f6aaa-429c-44c4-ab03-0de810c3692b",
   "metadata": {},
   "outputs": [],
   "source": [
    "plt.imshow(dsty,cmap=\"gray\")\n",
    "plt.title(\"Sobel Vertical Image\")"
   ]
  },
  {
   "cell_type": "markdown",
   "id": "94229fcb-168d-42eb-9f6e-0ee3f174a629",
   "metadata": {},
   "source": [
    "Get gradient image"
   ]
  },
  {
   "cell_type": "code",
   "execution_count": null,
   "id": "1564ed86-e662-481a-a909-ff65981450cd",
   "metadata": {},
   "outputs": [],
   "source": [
    "def GeneralEdgeDetection(img):\n",
    "    rows = img.shape[0]\n",
    "    columns = img.shape[1]\n",
    "    Gimg = np.zeros((img.shape[0],img.shape[1],3),np.uint8)\n",
    "    for x in range(rows):\n",
    "        for y in range(columns):\n",
    "            Gimg[x][y] = abs(dstx[x][y])+ abs(dsty[x][y])\n",
    "    return Gimg\n",
    "plt.imshow(GeneralEdgeDetection(dstimg))\n",
    "plt.title(\"Gradient Image\")\n",
    "\n",
    "dstimg = dstx + dsty"
   ]
  },
  {
   "cell_type": "markdown",
   "id": "afbf3bf1-0f22-4932-960e-7b0cdfd28769",
   "metadata": {},
   "source": [
    "Show the gradient image and Marked the Gradient image, Canny edge detection"
   ]
  },
  {
   "cell_type": "code",
   "execution_count": null,
   "id": "ca66c6a7-dfd6-4f20-baed-14191ac06c1f",
   "metadata": {},
   "outputs": [],
   "source": [
    "global tau,tau1,tau2,Gimg\n",
    "tau = 0\n",
    "tau1 = 0\n",
    "tau2 = 0\n",
    "\n",
    "Gimg = GeneralEdgeDetection(dstimg)\n",
    "\n",
    "\n",
    "rows = img.shape[0] \n",
    "columns = img.shape[1]\n",
    "\n",
    "def tau_val_trackbar(*arg):\n",
    "    # global tau\n",
    "    tau = cv2.getTrackbarPos(\"value of tau\", \"MarkGrad\")\n",
    "\n",
    "def tau_val_trackbar2(*arg):\n",
    "    global tau1,tau2\n",
    "    tau1 = cv2.getTrackbarPos(\"value of tau1\", \"Canny Edge Detection\")\n",
    "    tau2 = cv2.getTrackbarPos(\"value of tau2\", \"Canny Edge Detection\")\n",
    "\n",
    "def storeGimg(img):  \n",
    "    for x in range(rows):\n",
    "        for y in range(columns):\n",
    "            img[x][y] = resGimg[x][y]\n",
    "            \n",
    "def MarkGrad(img,tau):\n",
    "    temp = np.zeros((rows,columns),np.uint8)\n",
    "    for x in range(rows):\n",
    "        for y in range(columns):\n",
    "            for z in range(3):\n",
    "                if(img[x,y,z] >= tau):\n",
    "                    temp[x,y] = np.uint8(255)\n",
    "    return temp\n",
    "\n",
    "\n",
    "def CED(img,tau1,tau2):\n",
    "    imgGray = cv2.cvtColor(img,cv2.COLOR_BGR2GRAY)\n",
    "    Gaussianimg = cv2.GaussianBlur(imgGray,(5,5),7) \n",
    "    ced = cv2.Canny(Gaussianimg, tau1, tau2)\n",
    "    cv2.imshow(\"Canny Edge Detection\", ced)\n",
    "    return ced\n",
    "\n",
    "def activeGeneral(dstimg):\n",
    "    tau = cv2.getTrackbarPos(\"value of tau\", \"MarkGrad\")\n",
    "    Gimg = GeneralEdgeDetection(dstimg)\n",
    "    Gimg = MarkGrad(Gimg,tau)\n",
    "    plt.figure(figsize=(10,3))\n",
    "    cv2.imshow(\"MarkGrad\",Gimg)\n",
    "    plt.subplot(1,1,1),plt.imshow(Gimg,cmap ='gray')\n",
    "    plt.title(\"Gredient image, tau= \"+str(tau))\n",
    "\n",
    "def activeCanny():\n",
    "    tau1 = cv2.getTrackbarPos(\"value of tau1\", \"Canny Edge Detection\")\n",
    "    tau2 = cv2.getTrackbarPos(\"value of tau2\", \"Canny Edge Detection\")\n",
    "    ced = CED(img,tau1,tau2)\n",
    "    \n",
    "    plt.subplot(2,1,1),plt.imshow(ced,cmap ='gray')\n",
    "    plt.title(\"Canny edge detection\"+\"\\n\"+\"tau1= \"+str(tau1)+\" ,tau2 = \"+str(tau2))\n",
    "\n",
    "Markimg = MarkGrad(Gimg,18)\n",
    "plt.imshow(Markimg,cmap ='gray')\n",
    "plt.title(\"Gredient image, tau=18 \")"
   ]
  },
  {
   "cell_type": "code",
   "execution_count": null,
   "id": "80d8bf02-9af0-4900-ada1-56864c1c59da",
   "metadata": {},
   "outputs": [],
   "source": [
    "ced = CED(img,7,51)\n",
    "plt.imshow(ced,cmap ='gray')\n",
    "plt.title(\"Canny edge detection, tau1= 7,tau2 = 51\")"
   ]
  },
  {
   "cell_type": "markdown",
   "id": "b5984322-91c3-4508-b09e-a48b8dcf2e76",
   "metadata": {},
   "source": [
    "Part3 Compare (Please press enter for \"MarkGredient\", \"q\" for Canny, and \"c\" to calculate ratio. after all the ratios have \n",
    "been calculated, press \"esc\" to show the figures."
   ]
  },
  {
   "cell_type": "code",
   "execution_count": null,
   "id": "456e8da0-d228-4bdc-b109-d110c77aa818",
   "metadata": {},
   "outputs": [],
   "source": [
    "def Compare(img1,img2):\n",
    "    countgimg = 0\n",
    "    volume = rows * columns\n",
    "    ratio = 0\n",
    "    for i in range(img1.shape[0]):\n",
    "        for j in range(img1.shape[1]):\n",
    "                if(img1[i,j] == img2[i,j]):\n",
    "                    countgimg = countgimg+1\n",
    "    ratio = countgimg  / volume\n",
    "    return ratio                                #get the ratio \n",
    "\n",
    "\n",
    "\n",
    "def CompareMetricPlt(x, y, xLabel, yLabel,dataLabel,title):\n",
    "    plt.figure(dpi=200)\n",
    "    plt.figure(figsize=(5,5))\n",
    "    mX = []\n",
    "    mY = y\n",
    "    \n",
    "    for i in range(x[0],x[1]+1):\n",
    "        mX.append(i)\n",
    "    \n",
    "    #plot line\n",
    "    plt.plot(mX,mY,'g--',label = dataLabel)\n",
    "    #plot point \n",
    "    plt.plot(mX,mY,'g+-')\n",
    "\n",
    "    plt.title(title)\n",
    "    plt.xlabel(xLabel)\n",
    "    plt.ylabel(yLabel)\n",
    "    plt.legend()\n",
    "\n",
    "    plt.tight_layout()\n",
    "\n",
    "\n",
    "\n",
    "                              \n",
    "\n",
    "cv2.namedWindow(\"MarkGrad\", cv2.WINDOW_NORMAL)\n",
    "cv2.resizeWindow(\"MarkGrad\",columns, rows)\n",
    "cv2.createTrackbar(\"value of tau\", \"MarkGrad\", 0,30, tau_val_trackbar)\n",
    "\n",
    "\n",
    "cv2.namedWindow(\"Canny Edge Detection\", cv2.WINDOW_NORMAL)\n",
    "cv2.resizeWindow(\"Canny Edge Detection\",columns, rows)\n",
    "cv2.createTrackbar(\"value of tau1\", \"Canny Edge Detection\", 0,60, tau_val_trackbar2)\n",
    "cv2.createTrackbar(\"value of tau2\", \"Canny Edge Detection\", 0,60, tau_val_trackbar2)\n",
    "\n",
    "cv2.imshow(\"MarkGrad\",img)\n",
    "cv2.imshow(\"Canny Edge Detection\", img)\n",
    "    \n",
    "while True:    \n",
    "    key = cv2.waitKey(1)\n",
    "    if key == 27:   # \"esc\" to exit\n",
    "        break\n",
    "    if key== 13:    #\"enter\" to active the alogrithm\n",
    "        activeGeneral(dstimg)\n",
    "    if key == 113:  # 'q' \n",
    "        activeCanny()\n",
    "    if key == 99:   #please press \"c\" on the image\n",
    "        for t in range(tvalrange[1]):\n",
    "            ratios.append(Compare(MarkGrad(Gimg,t),CED(img,tau1,tau2)))\n",
    "            print(\"Ratio = \",ratios[t],\"For tau = \"+str(t))\n",
    "        print(\"start ploting\")\n",
    "        CompareMetricPlt(tvalrange, ratios, \"value of tau\", \"ratio\",\"dataLabel\",\"Similarity ratio trend\")\n",
    "cv2.destroyAllWindows()"
   ]
  },
  {
   "cell_type": "markdown",
   "id": "9e2ff118-f774-4350-b61b-4ac99bda2e42",
   "metadata": {},
   "source": [
    "Compare"
   ]
  },
  {
   "cell_type": "code",
   "execution_count": null,
   "id": "6837a08c-59e1-4927-ba79-d28a91d4c9ff",
   "metadata": {
    "tags": []
   },
   "outputs": [],
   "source": []
  },
  {
   "cell_type": "code",
   "execution_count": null,
   "id": "0eb7a4a6-7729-4af4-b12a-6bf00af8e3ff",
   "metadata": {},
   "outputs": [],
   "source": []
  },
  {
   "cell_type": "code",
   "execution_count": null,
   "id": "6a6e2659-d159-42e0-a072-30dbc2f85e56",
   "metadata": {},
   "outputs": [],
   "source": []
  }
 ],
 "metadata": {
  "kernelspec": {
   "display_name": "Python 3",
   "language": "python",
   "name": "python3"
  },
  "language_info": {
   "codemirror_mode": {
    "name": "ipython",
    "version": 3
   },
   "file_extension": ".py",
   "mimetype": "text/x-python",
   "name": "python",
   "nbconvert_exporter": "python",
   "pygments_lexer": "ipython3",
   "version": "3.8.8"
  }
 },
 "nbformat": 4,
 "nbformat_minor": 5
}
